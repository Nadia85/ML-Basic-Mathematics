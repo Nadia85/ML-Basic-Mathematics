{
 "cells": [
  {
   "cell_type": "markdown",
   "metadata": {},
   "source": [
    "# BASIC LINEAR ALGEBRA FOR MACHINE LEARNING"
   ]
  },
  {
   "cell_type": "markdown",
   "metadata": {},
   "source": [
    "## Texts Comparison by Cosine Distance"
   ]
  },
  {
   "cell_type": "markdown",
   "metadata": {},
   "source": [
    "You will need:\n",
    "+ numpy\n",
    "+ scipy"
   ]
  },
  {
   "cell_type": "markdown",
   "metadata": {},
   "source": [
    "We have a set of sentences copied from Wikipedia. Each of them has a \"cat theme\" in one of three meanings:\n",
    "- Cats (animals)\n",
    "- UNIX cat utility to display file contents\n",
    "- OS X versions named after the feline family\n",
    "\n",
    "The target is to find two sentences that are closest in meaning to the one located in the first line. As a measure of proximity, we will use the Cosine Distance."
   ]
  },
  {
   "cell_type": "markdown",
   "metadata": {},
   "source": [
    "### Simple Preprocessing"
   ]
  },
  {
   "cell_type": "code",
   "execution_count": 1,
   "metadata": {},
   "outputs": [],
   "source": [
    "file_r = open('CAT_sentences.txt', 'r')\n",
    "texto = file_r.read()\n",
    "#print(texto)"
   ]
  },
  {
   "cell_type": "code",
   "execution_count": 2,
   "metadata": {},
   "outputs": [
    {
     "name": "stdout",
     "output_type": "stream",
     "text": [
      "In comparison to dogs, cats have not undergone major changes during the domestication process.\n"
     ]
    }
   ],
   "source": [
    "data = texto.split(\"\\n\")\n",
    "print(data[0])"
   ]
  },
  {
   "cell_type": "code",
   "execution_count": 3,
   "metadata": {},
   "outputs": [
    {
     "name": "stdout",
     "output_type": "stream",
     "text": [
      "in comparison to dogs, cats have not undergone major changes during the domestication process.\n"
     ]
    }
   ],
   "source": [
    "# to lower str\n",
    "data1 = list(map(str.lower, data))\n",
    "print(data1[0])"
   ]
  },
  {
   "cell_type": "code",
   "execution_count": 4,
   "metadata": {},
   "outputs": [
    {
     "name": "stdout",
     "output_type": "stream",
     "text": [
      "['in', 'comparison', 'to', 'dogs', '', 'cats', 'have', 'not', 'undergone', 'major', 'changes', 'during', 'the', 'domestication', 'process', '']\n"
     ]
    }
   ],
   "source": [
    "# Words separate\n",
    "import re\n",
    "data2 = [re.split('[^a-z]', x) for x in data1 if x]\n",
    "print(data2[0])"
   ]
  },
  {
   "cell_type": "code",
   "execution_count": 5,
   "metadata": {},
   "outputs": [
    {
     "name": "stdout",
     "output_type": "stream",
     "text": [
      "['in', 'comparison', 'to', 'dogs', 'cats', 'have', 'not', 'undergone', 'major', 'changes', 'during', 'the', 'domestication', 'process']\n"
     ]
    }
   ],
   "source": [
    "# \" \" delete\n",
    "data3 = []\n",
    "for i in data2:\n",
    "    data3.append([x for x in i if x])\n",
    "print(data3[0])"
   ]
  },
  {
   "cell_type": "code",
   "execution_count": 6,
   "metadata": {},
   "outputs": [
    {
     "name": "stdout",
     "output_type": "stream",
     "text": [
      "number of senteces in text: 22;  number of words in text: 254\n"
     ]
    }
   ],
   "source": [
    "# Words list\n",
    "s = []            \n",
    "for i in data3:\n",
    "    s = s+i\n",
    "words = set(s)\n",
    "#print(words)\n",
    "print(f'number of senteces in text: {len(data3)};  number of words in text: {len(words)}')"
   ]
  },
  {
   "cell_type": "code",
   "execution_count": 7,
   "metadata": {},
   "outputs": [],
   "source": [
    "# Create a dictionary {word: number}\n",
    "num = dict(zip(words, range(1, len(words) + 1))) \n",
    "#print(num)"
   ]
  },
  {
   "cell_type": "markdown",
   "metadata": {},
   "source": [
    "For full preprocessing, it would be appropriate to delete common words like articulos, prepositions, etc. thing that doesn't consided in this example."
   ]
  },
  {
   "cell_type": "markdown",
   "metadata": {},
   "source": [
    "### Matrix data creation"
   ]
  },
  {
   "cell_type": "code",
   "execution_count": 8,
   "metadata": {},
   "outputs": [
    {
     "name": "stdout",
     "output_type": "stream",
     "text": [
      "(22, 254)\n"
     ]
    }
   ],
   "source": [
    "# Let´s transform sentences to vectors\n",
    "# We´ll create a matrix with 22 x 254 dimensions, where:\n",
    "# - rows are sentences, \n",
    "# - colums are weights (the frequency of each world in sentense)\n",
    "\n",
    "import numpy as np\n",
    "r = []\n",
    "for k in data3:\n",
    "    c = []\n",
    "    for j in words:\n",
    "        n = k.count(j)\n",
    "        c.append(n)\n",
    "    r.append(c)\n",
    "M = np.array(r)\n",
    "print(M.shape)\n",
    "#print(M)"
   ]
  },
  {
   "cell_type": "markdown",
   "metadata": {},
   "source": [
    "### Cosine Distance calculation "
   ]
  },
  {
   "cell_type": "code",
   "execution_count": 9,
   "metadata": {},
   "outputs": [],
   "source": [
    "# Cosine Distance Calculate between 1st sentense and others\n",
    "\n",
    "from scipy.spatial import distance\n",
    "\n",
    "d=[]\n",
    "for i in range(1, M.shape[0]):  \n",
    "    ds = distance.cosine(M[0,:], M[i,:])\n",
    "    d.append(ds)"
   ]
  },
  {
   "cell_type": "code",
   "execution_count": 10,
   "metadata": {},
   "outputs": [
    {
     "name": "stdout",
     "output_type": "stream",
     "text": [
      "1st sentence N  5\n",
      "2nd sentence N  3\n"
     ]
    }
   ],
   "source": [
    "# The minimum distance from 2 sentences\n",
    "\n",
    "di1 = d.index(min(d)) \n",
    "print('1st sentence N ', di1)\n",
    "\n",
    "d[di1] = 1.\n",
    "di2 = d.index(min(d)) \n",
    "print('2nd sentence N ', di2)"
   ]
  },
  {
   "cell_type": "code",
   "execution_count": 11,
   "metadata": {},
   "outputs": [
    {
     "name": "stdout",
     "output_type": "stream",
     "text": [
      "CAT SENTENCE:\n",
      " In comparison to dogs, cats have not undergone major changes during the domestication process. \n",
      "\n",
      "1st CLOSE SENTENCE:\n",
      " Domestic cats are similar in size to the other members of the genus Felis, typically weighing between 4 and 5 kg (8.8 and 11.0 lb). \n",
      "\n",
      "2nd CLOSE SENTENCE:\n",
      " In one, people deliberately tamed cats in a process of artificial selection, as they were useful predators of vermin. \n",
      "\n"
     ]
    }
   ],
   "source": [
    "#RESULTS PRINTING\n",
    "\n",
    "print(\"CAT SENTENCE:\\n\",data[0],\"\\n\")\n",
    "print(\"1st CLOSE SENTENCE:\\n\",data[di1+1],\"\\n\")\n",
    "print(\"2nd CLOSE SENTENCE:\\n\",data[di2+1],\"\\n\")"
   ]
  }
 ],
 "metadata": {
  "kernelspec": {
   "display_name": "Python 3",
   "language": "python",
   "name": "python3"
  },
  "language_info": {
   "codemirror_mode": {
    "name": "ipython",
    "version": 3
   },
   "file_extension": ".py",
   "mimetype": "text/x-python",
   "name": "python",
   "nbconvert_exporter": "python",
   "pygments_lexer": "ipython3",
   "version": "3.7.4"
  }
 },
 "nbformat": 4,
 "nbformat_minor": 2
}
